{
 "cells": [
  {
   "cell_type": "code",
   "execution_count": 1,
   "id": "38546c38",
   "metadata": {},
   "outputs": [
    {
     "name": "stdout",
     "output_type": "stream",
     "text": [
      "Collecting pyqrcode\n",
      "  Downloading PyQRCode-1.2.1.zip (41 kB)Note: you may need to restart the kernel to use updated packages.\n",
      "\n",
      "Building wheels for collected packages: pyqrcode\n",
      "  Building wheel for pyqrcode (setup.py): started\n",
      "  Building wheel for pyqrcode (setup.py): finished with status 'done'\n",
      "  Created wheel for pyqrcode: filename=PyQRCode-1.2.1-py3-none-any.whl size=36245 sha256=e021c06d2f4c0d5fe2f8fdd3f226c6a089bfafe19b7c3895e8967a11931a591d\n",
      "  Stored in directory: c:\\users\\furkan\\appdata\\local\\pip\\cache\\wheels\\e6\\5e\\b1\\e42b38f43c94593ea57059de7e585c009c0f54e36e1a532992\n",
      "Successfully built pyqrcode\n",
      "Installing collected packages: pyqrcode\n",
      "Successfully installed pyqrcode-1.2.1\n"
     ]
    }
   ],
   "source": [
    "pip install pyqrcode"
   ]
  },
  {
   "cell_type": "code",
   "execution_count": 9,
   "id": "04d7eb70",
   "metadata": {},
   "outputs": [
    {
     "name": "stdout",
     "output_type": "stream",
     "text": [
      "Collecting pypng\n",
      "  Downloading pypng-0.20220715.0-py3-none-any.whl (58 kB)\n",
      "Installing collected packages: pypng\n",
      "Successfully installed pypng-0.20220715.0\n",
      "Note: you may need to restart the kernel to use updated packages.\n"
     ]
    }
   ],
   "source": [
    "pip install pypng"
   ]
  },
  {
   "cell_type": "code",
   "execution_count": 1,
   "id": "66fdd0eb",
   "metadata": {},
   "outputs": [],
   "source": [
    "import pyqrcode\n",
    "import png"
   ]
  },
  {
   "cell_type": "code",
   "execution_count": 2,
   "id": "0bceb3c9",
   "metadata": {},
   "outputs": [],
   "source": [
    "url = pyqrcode.create(\"https://github.com/furkansi\") #The site to which the qr code will redirect."
   ]
  },
  {
   "cell_type": "code",
   "execution_count": 5,
   "id": "866db75c",
   "metadata": {},
   "outputs": [],
   "source": [
    "url.png(\"qr_kod.png\", scale = 8)"
   ]
  }
 ],
 "metadata": {
  "kernelspec": {
   "display_name": "Python 3",
   "language": "python",
   "name": "python3"
  },
  "language_info": {
   "codemirror_mode": {
    "name": "ipython",
    "version": 3
   },
   "file_extension": ".py",
   "mimetype": "text/x-python",
   "name": "python",
   "nbconvert_exporter": "python",
   "pygments_lexer": "ipython3",
   "version": "3.8.8"
  }
 },
 "nbformat": 4,
 "nbformat_minor": 5
}
